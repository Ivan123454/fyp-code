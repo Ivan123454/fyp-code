{
 "cells": [
  {
   "cell_type": "code",
   "execution_count": null,
   "id": "0490dc05",
   "metadata": {},
   "outputs": [],
   "source": [
    "import numpy as np\n",
    "import pandas as pd\n",
    "from sklearn.linear_model import LassoCV, Lasso\n",
    "from sklearn.model_selection import RandomizedSearchCV"
   ]
  },
  {
   "cell_type": "markdown",
   "id": "ce7caa7e",
   "metadata": {},
   "source": [
    "#  Load data from CSV\n",
    "This function loads data from a CSV file. The last column is treated as the target variable `Y`,\n",
    "and the remaining columns are treated as features `X`.\n",
    "\n",
    "Parameters:\n",
    "- `csv_path`: Path to the CSV file.\n",
    "\n",
    "Returns:\n",
    "- `X`: Feature matrix.\n",
    "- `Y`: Target vector."
   ]
  },
  {
   "cell_type": "code",
   "execution_count": null,
   "id": "77c9240c",
   "metadata": {},
   "outputs": [],
   "source": [
    "def load_data(csv_path):\n",
    "    data = pd.read_csv(csv_path)\n",
    "    X = data.iloc[:, :-1].values  # Features\n",
    "    Y = data.iloc[:, -1].values   # Target\n",
    "    return X, Y"
   ]
  },
  {
   "cell_type": "markdown",
   "id": "40fb2037",
   "metadata": {},
   "source": [
    "# Generate synthetic data\n",
    "Generates synthetic data for linear regression with U, V decomposition."
   ]
  },
  {
   "cell_type": "code",
   "execution_count": null,
   "id": "88bcd747",
   "metadata": {},
   "outputs": [],
   "source": [
    "def generate_data(n, p, sparsity=0.1, gamma=1.0, sigma=1.0, tau=1.0):\n",
    "    X = np.random.normal(0, 1, size=(n, p))\n",
    "    beta = np.zeros(p)\n",
    "    non_zero_indices = np.random.choice(p, int(p * sparsity), replace=False)\n",
    "    beta[non_zero_indices] = np.random.normal(0, 1, len(non_zero_indices))\n",
    "    epsilon = np.random.normal(0, sigma, n)\n",
    "    W = np.random.normal(0, tau, n)\n",
    "    Y = X @ beta + epsilon\n",
    "    U = Y + gamma * W\n",
    "    V = Y - (1 / gamma) * W\n",
    "    return X, Y, U, V, beta"
   ]
  },
  {
   "cell_type": "markdown",
   "id": "793ab784",
   "metadata": {},
   "source": [
    "#  Variance estimation using RCV"
   ]
  },
  {
   "cell_type": "code",
   "execution_count": null,
   "id": "f19afbd3",
   "metadata": {},
   "outputs": [],
   "source": [
    "def rcv_variance_estimation(X, Y, n_splits=2):\n",
    "    n = X.shape[0]\n",
    "    split_idx = n // n_splits\n",
    "    X1, X2 = X[:split_idx], X[split_idx:]\n",
    "    Y1, Y2 = Y[:split_idx], Y[split_idx:]\n",
    "    model1 = LassoCV(cv=5).fit(X1, Y1)\n",
    "    beta1 = model1.coef_\n",
    "    sigma1_squared = np.mean((Y1 - X1 @ beta1) ** 2)\n",
    "    model2 = LassoCV(cv=5).fit(X2, Y2)\n",
    "    beta2 = model2.coef_\n",
    "    sigma2_squared = np.mean((Y2 - X2 @ beta2) ** 2)\n",
    "    variance_rcv = (sigma1_squared * (split_idx - np.sum(beta1 != 0)) +\n",
    "                    sigma2_squared * (split_idx - np.sum(beta2 != 0))) / \\\n",
    "                   (n - np.sum(beta1 != 0) - np.sum(beta2 != 0))\n",
    "    return variance_rcv"
   ]
  },
  {
   "cell_type": "markdown",
   "id": "cc3661c5",
   "metadata": {},
   "source": [
    "#  Variance estimation using Fan's method"
   ]
  },
  {
   "cell_type": "code",
   "execution_count": null,
   "id": "11a59182",
   "metadata": {},
   "outputs": [],
   "source": [
    "def fan_variance_estimation(X, Y, alpha=None, cv=5):\n",
    "    n = X.shape[0]\n",
    "    if alpha is None:\n",
    "        lasso_cv = LassoCV(cv=cv).fit(X, Y)\n",
    "        alpha = lasso_cv.alpha_\n",
    "    lasso = Lasso(alpha=alpha).fit(X, Y)\n",
    "    beta_lasso = lasso.coef_\n",
    "    residual = Y - X @ beta_lasso\n",
    "    rss = np.sum(residual ** 2)\n",
    "    l1_penalty = alpha * np.sum(np.abs(beta_lasso))\n",
    "    sigma_squared = (rss / n) + l1_penalty\n",
    "    return sigma_squared"
   ]
  },
  {
   "cell_type": "markdown",
   "id": "c2e2146f",
   "metadata": {},
   "source": [
    "#  Choosing lambda in Fan et al.'s Method "
   ]
  },
  {
   "cell_type": "code",
   "execution_count": null,
   "id": "6661dcd7",
   "metadata": {},
   "outputs": [],
   "source": [
    "import numpy as np\n",
    "import pandas as pd\n",
    "from sklearn.linear_model import LassoCV, Lasso\n",
    "from sklearn.metrics import mean_squared_error\n",
    "from sklearn.model_selection import train_test_split\n",
    "from skopt import BayesSearchCV\n",
    "import math\n",
    "\n",
    "# 1. Theoretical Approach\n",
    "def choose_lambda_theoretical(n, p, c=1.0):\n",
    "    return c * np.log(p) / n\n",
    "\n",
    "# 2. Cross-Validation Approach\n",
    "def choose_lambda_cv(X, Y, cv=5):\n",
    "    lasso_cv = LassoCV(cv=cv).fit(X, Y)\n",
    "    return lasso_cv.alpha_\n",
    "\n",
    "# 3. Information Criteria Approach\n",
    "def choose_lambda_information_criteria(X, Y, criterion='AIC'):\n",
    "    lasso = LassoCV(cv=5).fit(X, Y)\n",
    "    alpha = lasso.alpha_\n",
    "    beta = lasso.coef_\n",
    "    residual = Y - X @ beta\n",
    "    rss = np.sum(residual ** 2)\n",
    "    n, p = X.shape\n",
    "    k = np.sum(beta != 0)\n",
    "    \n",
    "    if criterion == 'AIC':\n",
    "        return 2 * k - 2 * np.log(rss)\n",
    "    elif criterion == 'BIC':\n",
    "        return k * np.log(n) - 2 * np.log(rss)\n",
    "    elif criterion == 'GIC':\n",
    "        return rss + (alpha ** 2) * np.log(p)\n",
    "    else:\n",
    "        raise ValueError(\"Invalid criterion. Choose 'AIC', 'BIC', or 'GIC'.\")\n",
    "\n",
    "# 4. Bayesian Optimization Approach\n",
    "def choose_lambda_bayesian(X, Y):\n",
    "    search = BayesSearchCV(\n",
    "        estimator=Lasso(),\n",
    "        search_spaces={'alpha': (1e-4, 1.0, 'log-uniform')},\n",
    "        n_iter=50,\n",
    "        cv=5,\n",
    "        scoring='neg_mean_squared_error',\n",
    "        random_state=42\n",
    "    )\n",
    "    search.fit(X, Y)\n",
    "    return search.best_params_['alpha']\n",
    "\n"
   ]
  },
  {
   "cell_type": "markdown",
   "id": "19bef487",
   "metadata": {},
   "source": [
    "# Fit and Evaluate LASSO Model"
   ]
  },
  {
   "cell_type": "code",
   "execution_count": null,
   "id": "821641bf",
   "metadata": {},
   "outputs": [],
   "source": [
    "def fit_and_evaluate(X, Y, alpha, method_name):\n",
    "    \"\"\"\n",
    "    Fits LASSO regression with the given alpha and evaluates the model.\n",
    "    \n",
    "    Parameters:\n",
    "    - X: Feature matrix\n",
    "    - Y: Target vector\n",
    "    - alpha: Regularization parameter\n",
    "    - method_name: Name of the method for labeling results\n",
    "    \n",
    "    Returns:\n",
    "    - Dictionary with method name, alpha, MSE, and model coefficients.\n",
    "    \"\"\"\n",
    "    # Split data\n",
    "    X_train, X_test, Y_train, Y_test = train_test_split(X, Y, test_size=0.2, random_state=42)\n",
    "    \n",
    "    # Fit LASSO model\n",
    "    model = Lasso(alpha=alpha).fit(X_train, Y_train)\n",
    "    predictions = model.predict(X_test)\n",
    "    \n",
    "    # Calculate mean squared error\n",
    "    mse = mean_squared_error(Y_test, predictions)\n",
    "    \n",
    "    # Return results\n",
    "    return {\n",
    "        'Method': method_name,\n",
    "        'Alpha': alpha,\n",
    "        'MSE': mse,\n",
    "        'Coefficients': model.coef_\n",
    "    }\n"
   ]
  },
  {
   "cell_type": "markdown",
   "id": "6264ca44",
   "metadata": {},
   "source": [
    "# Compare Methods and Evaluate Performance"
   ]
  },
  {
   "cell_type": "code",
   "execution_count": null,
   "id": "625c90b4",
   "metadata": {},
   "outputs": [],
   "source": [
    "def compare_lambda_methods_and_evaluate(X, Y):\n",
    "    \"\"\"\n",
    "    Compares different methods for selecting lambda and evaluates model performance.\n",
    "    \"\"\"\n",
    "    n, p = X.shape\n",
    "\n",
    "    # Choose lambdas\n",
    "    lambda_theoretical = choose_lambda_theoretical(n, p)\n",
    "    lambda_cv = choose_lambda_cv(X, Y)\n",
    "    lambda_aic = choose_lambda_information_criteria(X, Y, criterion='AIC')\n",
    "    lambda_bic = choose_lambda_information_criteria(X, Y, criterion='BIC')\n",
    "    lambda_gic = choose_lambda_information_criteria(X, Y, criterion='GIC')\n",
    "    lambda_bayesian = choose_lambda_bayesian(X, Y)\n",
    "\n",
    "    # Evaluate models\n",
    "    results = []\n",
    "    results.append(fit_and_evaluate(X, Y, lambda_theoretical, \"Theoretical\"))\n",
    "    results.append(fit_and_evaluate(X, Y, lambda_cv, \"Cross-Validation\"))\n",
    "    results.append(fit_and_evaluate(X, Y, lambda_aic, \"AIC\"))\n",
    "    results.append(fit_and_evaluate(X, Y, lambda_bic, \"BIC\"))\n",
    "    results.append(fit_and_evaluate(X, Y, lambda_gic, \"GIC\"))\n",
    "    results.append(fit_and_evaluate(X, Y, lambda_bayesian, \"Bayesian\"))\n",
    "\n",
    "    # Print results\n",
    "    print(\"Comparison of Lambda Selection Methods and Their Performance:\")\n",
    "    for result in results:\n",
    "        print(f\"Method: {result['Method']}, Alpha: {result['Alpha']:.4f}, MSE: {result['MSE']:.4f}\")\n",
    "    return results"
   ]
  }
 ],
 "metadata": {
  "kernelspec": {
   "display_name": "Python 3 (ipykernel)",
   "language": "python",
   "name": "python3"
  },
  "language_info": {
   "codemirror_mode": {
    "name": "ipython",
    "version": 3
   },
   "file_extension": ".py",
   "mimetype": "text/x-python",
   "name": "python",
   "nbconvert_exporter": "python",
   "pygments_lexer": "ipython3",
   "version": "3.9.7"
  }
 },
 "nbformat": 4,
 "nbformat_minor": 5
}
